{
 "cells": [
  {
   "cell_type": "markdown",
   "metadata": {},
   "source": [
    "## EASY"
   ]
  },
  {
   "cell_type": "markdown",
   "metadata": {},
   "source": [
    "### 7. Reverse Integer"
   ]
  },
  {
   "cell_type": "markdown",
   "metadata": {},
   "source": [
    "My Answer:"
   ]
  },
  {
   "cell_type": "code",
   "execution_count": 2,
   "metadata": {},
   "outputs": [],
   "source": [
    "def reverse(self, x):\n",
    "        \"\"\"\n",
    "        :type x: int\n",
    "        :rtype: int\n",
    "        \"\"\"\n",
    "        minus = \"\"\n",
    "        result = \"\"\n",
    "        if x < 0:\n",
    "            minus = \"-\"\n",
    "        for char in str(abs(x)):\n",
    "            result = char + result\n",
    "        return int(minus + result)\n",
    "\n",
    "# Error test case:\n",
    "# Input: 1534236469\n",
    "# Output: 9646324351\n",
    "# Expected: 0"
   ]
  },
  {
   "cell_type": "markdown",
   "metadata": {},
   "source": [
    "Revised: (Runtime: 16 ms, faster than 88.40% of Python online submissions for Reverse Integer.\n",
    "Memory Usage: 13.5 MB, less than 35.22% of Python online submissions for Reverse Integer.)"
   ]
  },
  {
   "cell_type": "code",
   "execution_count": 3,
   "metadata": {},
   "outputs": [],
   "source": [
    "def reverse(self, x):\n",
    "        \"\"\"\n",
    "        :type x: int\n",
    "        :rtype: int\n",
    "        \"\"\"\n",
    "        minus = \"\"\n",
    "        result = \"\"\n",
    "        if x < 0:\n",
    "            minus = \"-\"\n",
    "        for char in str(abs(x)):\n",
    "            result = char + result\n",
    "            \n",
    "        result_num = int(minus + result)\n",
    "        if result_num >= pow(-2, 31) and result_num <= pow(2, 31):\n",
    "            return result_num\n",
    "        else:\n",
    "            return 0"
   ]
  },
  {
   "cell_type": "markdown",
   "metadata": {},
   "source": [
    "### 9. Palindrome Number"
   ]
  },
  {
   "cell_type": "markdown",
   "metadata": {},
   "source": [
    "My Answer: Runtime: 52 ms, faster than 68.85% of Python online submissions for Palindrome Number.\n",
    "Memory Usage: 13.7 MB, less than 10.87% of Python online submissions for Palindrome Number."
   ]
  },
  {
   "cell_type": "code",
   "execution_count": null,
   "metadata": {},
   "outputs": [],
   "source": [
    "def isPalindrome(self, x):\n",
    "        \"\"\"\n",
    "        :type x: int\n",
    "        :rtype: bool\n",
    "        \"\"\"\n",
    "        string = str(x)\n",
    "        for i in range(len(string) / 2):\n",
    "            if string[i] != string[len(string) - 1 - i]:\n",
    "                return False\n",
    "        return True"
   ]
  },
  {
   "cell_type": "markdown",
   "metadata": {},
   "source": []
  }
 ],
 "metadata": {
  "kernelspec": {
   "display_name": "Python 3",
   "language": "python",
   "name": "python3"
  },
  "language_info": {
   "codemirror_mode": {
    "name": "ipython",
    "version": 3
   },
   "file_extension": ".py",
   "mimetype": "text/x-python",
   "name": "python",
   "nbconvert_exporter": "python",
   "pygments_lexer": "ipython3",
   "version": "3.7.6"
  }
 },
 "nbformat": 4,
 "nbformat_minor": 4
}
